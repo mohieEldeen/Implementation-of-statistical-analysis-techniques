{
 "cells": [
  {
   "cell_type": "markdown",
   "metadata": {},
   "source": [
    "# Project: Investigate the No Show Appointments Dataset \n",
    "\n",
    "## Table of Contents\n",
    "<ul>\n",
    "<li><a href=\"#intro\">Introduction</a></li>\n",
    "<li><a href=\"#wrangling\">Data Wrangling</a></li>\n",
    "<li><a href=\"#eda\">Exploratory Data Analysis</a></li>\n",
    "<li><a href=\"#conclusions\">Conclusions</a></li>\n",
    "</ul>"
   ]
  },
  {
   "cell_type": "markdown",
   "metadata": {},
   "source": [
    "<a id='intro'></a>\n",
    "## Introduction\n",
    "\n",
    "**Throughout the notebook we will be exploring and analysing the \"no show appointment\" Dataset.\n",
    "    We will try to find patterns, reasons, ralations or correlations between the provided data features and the final \n",
    "    result (show or no-show).**\n",
    "    \n",
    "    \n",
    "**We will be commited to some steps in order to finish our analysis.\n",
    "    first we will be checking the data and fixing the troubles that comes with it and that would be our first step\n",
    "    which is data wrangling.\n",
    "    second we will be trying to study the relations between the features and the final result using interpretable and\n",
    "    insightful graphs and by calculating some ratios. hopfully by doing that we will find some intersting result and \n",
    "    that's the second step which is exploratory data analysis.\n",
    "    Finally we will try to use these relations in order to reach a final conclusion and a realization of the \n",
    "    limitations of these relations that we have and that's the final step \"conclusion\"**\n",
    "    "
   ]
  },
  {
   "cell_type": "code",
   "execution_count": 1,
   "metadata": {},
   "outputs": [],
   "source": [
    "#loading the libraries that we will use\n",
    "import pandas as pd\n",
    "import numpy as np\n",
    "import matplotlib.pyplot as plt\n",
    "%matplotlib inline"
   ]
  },
  {
   "cell_type": "markdown",
   "metadata": {},
   "source": [
    "\n",
    "\n",
    "<a id='wrangling'></a>\n",
    "## Data Wrangling\n",
    "\n",
    "\n",
    "### Main steps"
   ]
  },
  {
   "cell_type": "markdown",
   "metadata": {},
   "source": [
    "<ul>\n",
    "<li>loading the data</li>\n",
    "<li>figuring out the number of rows and columns</li>\n",
    "<li>renaming the columns</li>\n",
    "<li>looking for the missing values</li>\n",
    "<li>looking for the duplicated rows</li>\n",
    "<li>fixing the data types of the columns</li>\n",
    "<li>droping the unnecessary columns</li>\n",
    "</ul>"
   ]
  },
  {
   "cell_type": "code",
   "execution_count": 2,
   "metadata": {},
   "outputs": [],
   "source": [
    "#loading the data\n",
    "nsa = pd.read_csv('NSA.csv')"
   ]
  },
  {
   "cell_type": "code",
   "execution_count": 3,
   "metadata": {},
   "outputs": [
    {
     "data": {
      "text/html": [
       "<div>\n",
       "<style scoped>\n",
       "    .dataframe tbody tr th:only-of-type {\n",
       "        vertical-align: middle;\n",
       "    }\n",
       "\n",
       "    .dataframe tbody tr th {\n",
       "        vertical-align: top;\n",
       "    }\n",
       "\n",
       "    .dataframe thead th {\n",
       "        text-align: right;\n",
       "    }\n",
       "</style>\n",
       "<table border=\"1\" class=\"dataframe\">\n",
       "  <thead>\n",
       "    <tr style=\"text-align: right;\">\n",
       "      <th></th>\n",
       "      <th>PatientId</th>\n",
       "      <th>AppointmentID</th>\n",
       "      <th>Gender</th>\n",
       "      <th>ScheduledDay</th>\n",
       "      <th>AppointmentDay</th>\n",
       "      <th>Age</th>\n",
       "      <th>Neighbourhood</th>\n",
       "      <th>Scholarship</th>\n",
       "      <th>Hipertension</th>\n",
       "      <th>Diabetes</th>\n",
       "      <th>Alcoholism</th>\n",
       "      <th>Handcap</th>\n",
       "      <th>SMS_received</th>\n",
       "      <th>No-show</th>\n",
       "    </tr>\n",
       "  </thead>\n",
       "  <tbody>\n",
       "    <tr>\n",
       "      <td>0</td>\n",
       "      <td>2.987250e+13</td>\n",
       "      <td>5642903</td>\n",
       "      <td>F</td>\n",
       "      <td>2016-04-29T18:38:08Z</td>\n",
       "      <td>2016-04-29T00:00:00Z</td>\n",
       "      <td>62</td>\n",
       "      <td>JARDIM DA PENHA</td>\n",
       "      <td>0</td>\n",
       "      <td>1</td>\n",
       "      <td>0</td>\n",
       "      <td>0</td>\n",
       "      <td>0</td>\n",
       "      <td>0</td>\n",
       "      <td>No</td>\n",
       "    </tr>\n",
       "    <tr>\n",
       "      <td>1</td>\n",
       "      <td>5.589978e+14</td>\n",
       "      <td>5642503</td>\n",
       "      <td>M</td>\n",
       "      <td>2016-04-29T16:08:27Z</td>\n",
       "      <td>2016-04-29T00:00:00Z</td>\n",
       "      <td>56</td>\n",
       "      <td>JARDIM DA PENHA</td>\n",
       "      <td>0</td>\n",
       "      <td>0</td>\n",
       "      <td>0</td>\n",
       "      <td>0</td>\n",
       "      <td>0</td>\n",
       "      <td>0</td>\n",
       "      <td>No</td>\n",
       "    </tr>\n",
       "    <tr>\n",
       "      <td>2</td>\n",
       "      <td>4.262962e+12</td>\n",
       "      <td>5642549</td>\n",
       "      <td>F</td>\n",
       "      <td>2016-04-29T16:19:04Z</td>\n",
       "      <td>2016-04-29T00:00:00Z</td>\n",
       "      <td>62</td>\n",
       "      <td>MATA DA PRAIA</td>\n",
       "      <td>0</td>\n",
       "      <td>0</td>\n",
       "      <td>0</td>\n",
       "      <td>0</td>\n",
       "      <td>0</td>\n",
       "      <td>0</td>\n",
       "      <td>No</td>\n",
       "    </tr>\n",
       "    <tr>\n",
       "      <td>3</td>\n",
       "      <td>8.679512e+11</td>\n",
       "      <td>5642828</td>\n",
       "      <td>F</td>\n",
       "      <td>2016-04-29T17:29:31Z</td>\n",
       "      <td>2016-04-29T00:00:00Z</td>\n",
       "      <td>8</td>\n",
       "      <td>PONTAL DE CAMBURI</td>\n",
       "      <td>0</td>\n",
       "      <td>0</td>\n",
       "      <td>0</td>\n",
       "      <td>0</td>\n",
       "      <td>0</td>\n",
       "      <td>0</td>\n",
       "      <td>No</td>\n",
       "    </tr>\n",
       "    <tr>\n",
       "      <td>4</td>\n",
       "      <td>8.841186e+12</td>\n",
       "      <td>5642494</td>\n",
       "      <td>F</td>\n",
       "      <td>2016-04-29T16:07:23Z</td>\n",
       "      <td>2016-04-29T00:00:00Z</td>\n",
       "      <td>56</td>\n",
       "      <td>JARDIM DA PENHA</td>\n",
       "      <td>0</td>\n",
       "      <td>1</td>\n",
       "      <td>1</td>\n",
       "      <td>0</td>\n",
       "      <td>0</td>\n",
       "      <td>0</td>\n",
       "      <td>No</td>\n",
       "    </tr>\n",
       "  </tbody>\n",
       "</table>\n",
       "</div>"
      ],
      "text/plain": [
       "      PatientId  AppointmentID Gender          ScheduledDay  \\\n",
       "0  2.987250e+13        5642903      F  2016-04-29T18:38:08Z   \n",
       "1  5.589978e+14        5642503      M  2016-04-29T16:08:27Z   \n",
       "2  4.262962e+12        5642549      F  2016-04-29T16:19:04Z   \n",
       "3  8.679512e+11        5642828      F  2016-04-29T17:29:31Z   \n",
       "4  8.841186e+12        5642494      F  2016-04-29T16:07:23Z   \n",
       "\n",
       "         AppointmentDay  Age      Neighbourhood  Scholarship  Hipertension  \\\n",
       "0  2016-04-29T00:00:00Z   62    JARDIM DA PENHA            0             1   \n",
       "1  2016-04-29T00:00:00Z   56    JARDIM DA PENHA            0             0   \n",
       "2  2016-04-29T00:00:00Z   62      MATA DA PRAIA            0             0   \n",
       "3  2016-04-29T00:00:00Z    8  PONTAL DE CAMBURI            0             0   \n",
       "4  2016-04-29T00:00:00Z   56    JARDIM DA PENHA            0             1   \n",
       "\n",
       "   Diabetes  Alcoholism  Handcap  SMS_received No-show  \n",
       "0         0           0        0             0      No  \n",
       "1         0           0        0             0      No  \n",
       "2         0           0        0             0      No  \n",
       "3         0           0        0             0      No  \n",
       "4         1           0        0             0      No  "
      ]
     },
     "execution_count": 3,
     "metadata": {},
     "output_type": "execute_result"
    }
   ],
   "source": [
    "nsa.head()"
   ]
  },
  {
   "cell_type": "code",
   "execution_count": 4,
   "metadata": {},
   "outputs": [
    {
     "data": {
      "text/plain": [
       "(110527, 14)"
      ]
     },
     "execution_count": 4,
     "metadata": {},
     "output_type": "execute_result"
    }
   ],
   "source": [
    "# number of rows and columns\n",
    "nsa.shape"
   ]
  },
  {
   "cell_type": "code",
   "execution_count": 5,
   "metadata": {},
   "outputs": [],
   "source": [
    "#renaming the columns to be more accessible\n",
    "nsa = nsa.rename(columns = lambda x : x.strip().lower() )"
   ]
  },
  {
   "cell_type": "code",
   "execution_count": 6,
   "metadata": {},
   "outputs": [
    {
     "name": "stdout",
     "output_type": "stream",
     "text": [
      "<class 'pandas.core.frame.DataFrame'>\n",
      "RangeIndex: 110527 entries, 0 to 110526\n",
      "Data columns (total 14 columns):\n",
      "patientid         110527 non-null float64\n",
      "appointmentid     110527 non-null int64\n",
      "gender            110527 non-null object\n",
      "scheduledday      110527 non-null object\n",
      "appointmentday    110527 non-null object\n",
      "age               110527 non-null int64\n",
      "neighbourhood     110527 non-null object\n",
      "scholarship       110527 non-null int64\n",
      "hipertension      110527 non-null int64\n",
      "diabetes          110527 non-null int64\n",
      "alcoholism        110527 non-null int64\n",
      "handcap           110527 non-null int64\n",
      "sms_received      110527 non-null int64\n",
      "no-show           110527 non-null object\n",
      "dtypes: float64(1), int64(8), object(5)\n",
      "memory usage: 11.8+ MB\n"
     ]
    }
   ],
   "source": [
    "#looking for any missing values\n",
    "nsa.info()\n",
    "#good, it seems like there're no missing values"
   ]
  },
  {
   "cell_type": "code",
   "execution_count": 7,
   "metadata": {},
   "outputs": [
    {
     "data": {
      "text/plain": [
       "0"
      ]
     },
     "execution_count": 7,
     "metadata": {},
     "output_type": "execute_result"
    }
   ],
   "source": [
    "#looking for duplicated rows \n",
    "nsa.duplicated().sum()\n",
    "#good, it seems like there're no duplicated values"
   ]
  },
  {
   "cell_type": "code",
   "execution_count": 8,
   "metadata": {},
   "outputs": [
    {
     "data": {
      "text/html": [
       "<div>\n",
       "<style scoped>\n",
       "    .dataframe tbody tr th:only-of-type {\n",
       "        vertical-align: middle;\n",
       "    }\n",
       "\n",
       "    .dataframe tbody tr th {\n",
       "        vertical-align: top;\n",
       "    }\n",
       "\n",
       "    .dataframe thead th {\n",
       "        text-align: right;\n",
       "    }\n",
       "</style>\n",
       "<table border=\"1\" class=\"dataframe\">\n",
       "  <thead>\n",
       "    <tr style=\"text-align: right;\">\n",
       "      <th></th>\n",
       "      <th>patientid</th>\n",
       "      <th>appointmentid</th>\n",
       "      <th>age</th>\n",
       "      <th>scholarship</th>\n",
       "      <th>hipertension</th>\n",
       "      <th>diabetes</th>\n",
       "      <th>alcoholism</th>\n",
       "      <th>handcap</th>\n",
       "      <th>sms_received</th>\n",
       "    </tr>\n",
       "  </thead>\n",
       "  <tbody>\n",
       "    <tr>\n",
       "      <td>count</td>\n",
       "      <td>1.105270e+05</td>\n",
       "      <td>1.105270e+05</td>\n",
       "      <td>110527.000000</td>\n",
       "      <td>110527.000000</td>\n",
       "      <td>110527.000000</td>\n",
       "      <td>110527.000000</td>\n",
       "      <td>110527.000000</td>\n",
       "      <td>110527.000000</td>\n",
       "      <td>110527.000000</td>\n",
       "    </tr>\n",
       "    <tr>\n",
       "      <td>mean</td>\n",
       "      <td>1.474963e+14</td>\n",
       "      <td>5.675305e+06</td>\n",
       "      <td>37.088874</td>\n",
       "      <td>0.098266</td>\n",
       "      <td>0.197246</td>\n",
       "      <td>0.071865</td>\n",
       "      <td>0.030400</td>\n",
       "      <td>0.022248</td>\n",
       "      <td>0.321026</td>\n",
       "    </tr>\n",
       "    <tr>\n",
       "      <td>std</td>\n",
       "      <td>2.560949e+14</td>\n",
       "      <td>7.129575e+04</td>\n",
       "      <td>23.110205</td>\n",
       "      <td>0.297675</td>\n",
       "      <td>0.397921</td>\n",
       "      <td>0.258265</td>\n",
       "      <td>0.171686</td>\n",
       "      <td>0.161543</td>\n",
       "      <td>0.466873</td>\n",
       "    </tr>\n",
       "    <tr>\n",
       "      <td>min</td>\n",
       "      <td>3.921784e+04</td>\n",
       "      <td>5.030230e+06</td>\n",
       "      <td>-1.000000</td>\n",
       "      <td>0.000000</td>\n",
       "      <td>0.000000</td>\n",
       "      <td>0.000000</td>\n",
       "      <td>0.000000</td>\n",
       "      <td>0.000000</td>\n",
       "      <td>0.000000</td>\n",
       "    </tr>\n",
       "    <tr>\n",
       "      <td>25%</td>\n",
       "      <td>4.172614e+12</td>\n",
       "      <td>5.640286e+06</td>\n",
       "      <td>18.000000</td>\n",
       "      <td>0.000000</td>\n",
       "      <td>0.000000</td>\n",
       "      <td>0.000000</td>\n",
       "      <td>0.000000</td>\n",
       "      <td>0.000000</td>\n",
       "      <td>0.000000</td>\n",
       "    </tr>\n",
       "    <tr>\n",
       "      <td>50%</td>\n",
       "      <td>3.173184e+13</td>\n",
       "      <td>5.680573e+06</td>\n",
       "      <td>37.000000</td>\n",
       "      <td>0.000000</td>\n",
       "      <td>0.000000</td>\n",
       "      <td>0.000000</td>\n",
       "      <td>0.000000</td>\n",
       "      <td>0.000000</td>\n",
       "      <td>0.000000</td>\n",
       "    </tr>\n",
       "    <tr>\n",
       "      <td>75%</td>\n",
       "      <td>9.439172e+13</td>\n",
       "      <td>5.725524e+06</td>\n",
       "      <td>55.000000</td>\n",
       "      <td>0.000000</td>\n",
       "      <td>0.000000</td>\n",
       "      <td>0.000000</td>\n",
       "      <td>0.000000</td>\n",
       "      <td>0.000000</td>\n",
       "      <td>1.000000</td>\n",
       "    </tr>\n",
       "    <tr>\n",
       "      <td>max</td>\n",
       "      <td>9.999816e+14</td>\n",
       "      <td>5.790484e+06</td>\n",
       "      <td>115.000000</td>\n",
       "      <td>1.000000</td>\n",
       "      <td>1.000000</td>\n",
       "      <td>1.000000</td>\n",
       "      <td>1.000000</td>\n",
       "      <td>4.000000</td>\n",
       "      <td>1.000000</td>\n",
       "    </tr>\n",
       "  </tbody>\n",
       "</table>\n",
       "</div>"
      ],
      "text/plain": [
       "          patientid  appointmentid            age    scholarship  \\\n",
       "count  1.105270e+05   1.105270e+05  110527.000000  110527.000000   \n",
       "mean   1.474963e+14   5.675305e+06      37.088874       0.098266   \n",
       "std    2.560949e+14   7.129575e+04      23.110205       0.297675   \n",
       "min    3.921784e+04   5.030230e+06      -1.000000       0.000000   \n",
       "25%    4.172614e+12   5.640286e+06      18.000000       0.000000   \n",
       "50%    3.173184e+13   5.680573e+06      37.000000       0.000000   \n",
       "75%    9.439172e+13   5.725524e+06      55.000000       0.000000   \n",
       "max    9.999816e+14   5.790484e+06     115.000000       1.000000   \n",
       "\n",
       "        hipertension       diabetes     alcoholism        handcap  \\\n",
       "count  110527.000000  110527.000000  110527.000000  110527.000000   \n",
       "mean        0.197246       0.071865       0.030400       0.022248   \n",
       "std         0.397921       0.258265       0.171686       0.161543   \n",
       "min         0.000000       0.000000       0.000000       0.000000   \n",
       "25%         0.000000       0.000000       0.000000       0.000000   \n",
       "50%         0.000000       0.000000       0.000000       0.000000   \n",
       "75%         0.000000       0.000000       0.000000       0.000000   \n",
       "max         1.000000       1.000000       1.000000       4.000000   \n",
       "\n",
       "        sms_received  \n",
       "count  110527.000000  \n",
       "mean        0.321026  \n",
       "std         0.466873  \n",
       "min         0.000000  \n",
       "25%         0.000000  \n",
       "50%         0.000000  \n",
       "75%         1.000000  \n",
       "max         1.000000  "
      ]
     },
     "execution_count": 8,
     "metadata": {},
     "output_type": "execute_result"
    }
   ],
   "source": [
    "#exploring the describtion of the columns \n",
    "nsa.describe()"
   ]
  },
  {
   "cell_type": "markdown",
   "metadata": {},
   "source": [
    "> the age has a minumum of -1 and maximum of 115 which are outliers and can cause problems in the future so we have to drop them"
   ]
  },
  {
   "cell_type": "code",
   "execution_count": 9,
   "metadata": {},
   "outputs": [],
   "source": [
    "to_be_droped = nsa[nsa['age']<0]['age'].index #the index of the cases that have age smaller than 0\n",
    "nsa.drop(to_be_droped,inplace = True) #droping these cases"
   ]
  },
  {
   "cell_type": "code",
   "execution_count": 10,
   "metadata": {},
   "outputs": [],
   "source": [
    "to_be_droped = nsa[nsa['age']>102]['age'].index #the index of the cases that have age more than 102\n",
    "nsa.drop(to_be_droped,inplace = True) #droping these cases"
   ]
  },
  {
   "cell_type": "code",
   "execution_count": 11,
   "metadata": {},
   "outputs": [],
   "source": [
    "#droping the unnecessary columns for the analysis\n",
    "to_be_dropped = ['patientid' , 'appointmentid' , 'appointmentday','scheduledday']\n",
    "nsa.drop(to_be_dropped , axis = 1 , inplace = True)"
   ]
  },
  {
   "cell_type": "markdown",
   "metadata": {},
   "source": [
    "<a id='eda'></a>\n",
    "## Exploratory Data Analysis\n",
    "\n",
    "\n",
    "\n",
    "### Q1 :What is The percentage of the cases that show up in the appointment ?"
   ]
  },
  {
   "cell_type": "code",
   "execution_count": 12,
   "metadata": {
    "scrolled": true
   },
   "outputs": [
    {
     "data": {
      "text/plain": [
       "<matplotlib.axes._subplots.AxesSubplot at 0x1daf9aca188>"
      ]
     },
     "execution_count": 12,
     "metadata": {},
     "output_type": "execute_result"
    },
    {
     "data": {
      "image/png": "[encoded data removed]",
      "text/plain": [
       "<Figure size 432x288 with 1 Axes>"
      ]
     },
     "metadata": {
      "needs_background": "light"
     },
     "output_type": "display_data"
    }
   ],
   "source": [
    "nsa['no-show'].value_counts().plot(kind = 'bar') #bar graph of the people who show and didn't show"
   ]
  },
  {
   "cell_type": "code",
   "execution_count": 13,
   "metadata": {},
   "outputs": [
    {
     "data": {
      "text/plain": [
       "0.2019163778829363"
      ]
     },
     "execution_count": 13,
     "metadata": {},
     "output_type": "execute_result"
    }
   ],
   "source": [
    "# the percentage of shows\n",
    "nsa['no-show'].value_counts()['Yes'] / nsa.shape[0]"
   ]
  },
  {
   "cell_type": "markdown",
   "metadata": {},
   "source": [
    "### The answer\n",
    ">seems like the data is way more skewed to the \"no showing\" cases than the \"showing\" cases. only 20% of the cases show up to the appointment"
   ]
  },
  {
   "cell_type": "markdown",
   "metadata": {},
   "source": [
    "### Q2 : Is there any correlation between the gender of the cases and showing up to the appointment ?"
   ]
  },
  {
   "cell_type": "code",
   "execution_count": 14,
   "metadata": {},
   "outputs": [
    {
     "data": {
      "text/html": [
       "<div>\n",
       "<style scoped>\n",
       "    .dataframe tbody tr th:only-of-type {\n",
       "        vertical-align: middle;\n",
       "    }\n",
       "\n",
       "    .dataframe tbody tr th {\n",
       "        vertical-align: top;\n",
       "    }\n",
       "\n",
       "    .dataframe thead th {\n",
       "        text-align: right;\n",
       "    }\n",
       "</style>\n",
       "<table border=\"1\" class=\"dataframe\">\n",
       "  <thead>\n",
       "    <tr style=\"text-align: right;\">\n",
       "      <th>no-show</th>\n",
       "      <th>No</th>\n",
       "      <th>Yes</th>\n",
       "    </tr>\n",
       "    <tr>\n",
       "      <th>gender</th>\n",
       "      <th></th>\n",
       "      <th></th>\n",
       "    </tr>\n",
       "  </thead>\n",
       "  <tbody>\n",
       "    <tr>\n",
       "      <td>F</td>\n",
       "      <td>57243</td>\n",
       "      <td>14591</td>\n",
       "    </tr>\n",
       "    <tr>\n",
       "      <td>M</td>\n",
       "      <td>30962</td>\n",
       "      <td>7725</td>\n",
       "    </tr>\n",
       "  </tbody>\n",
       "</table>\n",
       "</div>"
      ],
      "text/plain": [
       "no-show     No    Yes\n",
       "gender               \n",
       "F        57243  14591\n",
       "M        30962   7725"
      ]
     },
     "execution_count": 14,
     "metadata": {},
     "output_type": "execute_result"
    }
   ],
   "source": [
    "#creating dataframe where we have the numbers of shows and no_shows for females and males\n",
    "df_gend = nsa.groupby(['gender','no-show']).size().unstack()\n",
    "df_gend"
   ]
  },
  {
   "cell_type": "code",
   "execution_count": 15,
   "metadata": {},
   "outputs": [
    {
     "data": {
      "text/plain": [
       "<matplotlib.axes._subplots.AxesSubplot at 0x1dafb44f6c8>"
      ]
     },
     "execution_count": 15,
     "metadata": {},
     "output_type": "execute_result"
    },
    {
     "data": {
      "image/png": "[encoded data removed]",
      "text/plain": [
       "<Figure size 432x288 with 1 Axes>"
      ]
     },
     "metadata": {
      "needs_background": "light"
     },
     "output_type": "display_data"
    }
   ],
   "source": [
    "df_gend.plot(kind='bar',rot=0) #a bar graph that shows the numbers of shows an no shows for every gender"
   ]
  },
  {
   "cell_type": "code",
   "execution_count": 16,
   "metadata": {},
   "outputs": [
    {
     "data": {
      "text/plain": [
       "gender\n",
       "F    71834\n",
       "M    38687\n",
       "dtype: int64"
      ]
     },
     "execution_count": 16,
     "metadata": {},
     "output_type": "execute_result"
    }
   ],
   "source": [
    "gend_sum = df_gend.sum(axis=1) #the total number of females and males\n",
    "gend_sum"
   ]
  },
  {
   "cell_type": "code",
   "execution_count": 17,
   "metadata": {},
   "outputs": [
    {
     "data": {
      "text/plain": [
       "(0.2031210847231116, 0.19967947889471915)"
      ]
     },
     "execution_count": 17,
     "metadata": {},
     "output_type": "execute_result"
    }
   ],
   "source": [
    "#calculatiing the ratio of showing up in both cases of females and males\n",
    "female_ratio = df_gend['Yes']['F']/gend_sum['F'] #calculating the ratio for the females\n",
    "male_ratio = df_gend['Yes']['M']/gend_sum['M'] #calculating the ratio for the males\n",
    "(female_ratio, male_ratio)"
   ]
  },
  {
   "cell_type": "markdown",
   "metadata": {},
   "source": [
    "### The answer :\n",
    "> the two ratios are roughly the same as the ratio of the total showing in the data set. so I think there's no relation betrween the gender and showing to the appointment"
   ]
  },
  {
   "cell_type": "markdown",
   "metadata": {},
   "source": [
    "### Q3 : Is there any correlation between the age of the cases and showing up to the appointment ? "
   ]
  },
  {
   "cell_type": "code",
   "execution_count": 18,
   "metadata": {},
   "outputs": [
    {
     "data": {
      "text/plain": [
       "102"
      ]
     },
     "execution_count": 18,
     "metadata": {},
     "output_type": "execute_result"
    }
   ],
   "source": [
    "# the number of unique ages in the dataset\n",
    "nsa['age'].nunique()"
   ]
  },
  {
   "cell_type": "code",
   "execution_count": 19,
   "metadata": {},
   "outputs": [],
   "source": [
    "#making a function that labels every age to a range so that we will have a 6 ranges of ages instead of 104 different values\n",
    "def mask (age):\n",
    "    if age <= 15 :\n",
    "        return('1-15')  #if the age is between 0 and 15 it will return a string of '1-15'\n",
    "    if age <= 30 :\n",
    "        return('15-30') #if the age is between 15 and 30 it will return a string of '15-30'\n",
    "    if age <= 45 :\n",
    "        return('30-45') #if the age is between 30 and 45 it will return a string of '30-45'\n",
    "    if age <= 60 :\n",
    "        return('45-60') #if the age is between 45 and 60 it will return a string of '45-60'\n",
    "    if age <= 75 :\n",
    "        return('60-75') #if the age is between 60 and 75 it will return a string of '60-75'\n",
    "    \n",
    "    return('>75')  # if the age is bigger than 75 it will return a string of '>75'\n",
    "\n",
    "new_nsa = nsa.copy() #making a copy of the nsa dataframe\n",
    "new_nsa['age'] = new_nsa['age'].apply(mask) #appling the mask function on the age column"
   ]
  },
  {
   "cell_type": "code",
   "execution_count": 20,
   "metadata": {},
   "outputs": [
    {
     "data": {
      "text/plain": [
       "array(['60-75', '45-60', '1-15', '>75', '15-30', '30-45'], dtype=object)"
      ]
     },
     "execution_count": 20,
     "metadata": {},
     "output_type": "execute_result"
    }
   ],
   "source": [
    "new_nsa['age'].unique() #the unique values of the age in the new nsa"
   ]
  },
  {
   "cell_type": "code",
   "execution_count": 21,
   "metadata": {},
   "outputs": [
    {
     "data": {
      "text/html": [
       "<div>\n",
       "<style scoped>\n",
       "    .dataframe tbody tr th:only-of-type {\n",
       "        vertical-align: middle;\n",
       "    }\n",
       "\n",
       "    .dataframe tbody tr th {\n",
       "        vertical-align: top;\n",
       "    }\n",
       "\n",
       "    .dataframe thead th {\n",
       "        text-align: right;\n",
       "    }\n",
       "</style>\n",
       "<table border=\"1\" class=\"dataframe\">\n",
       "  <thead>\n",
       "    <tr style=\"text-align: right;\">\n",
       "      <th>no-show</th>\n",
       "      <th>No</th>\n",
       "      <th>Yes</th>\n",
       "    </tr>\n",
       "    <tr>\n",
       "      <th>age</th>\n",
       "      <th></th>\n",
       "      <th></th>\n",
       "    </tr>\n",
       "  </thead>\n",
       "  <tbody>\n",
       "    <tr>\n",
       "      <td>1-15</td>\n",
       "      <td>19220</td>\n",
       "      <td>5248</td>\n",
       "    </tr>\n",
       "    <tr>\n",
       "      <td>15-30</td>\n",
       "      <td>15921</td>\n",
       "      <td>5242</td>\n",
       "    </tr>\n",
       "    <tr>\n",
       "      <td>30-45</td>\n",
       "      <td>17262</td>\n",
       "      <td>4692</td>\n",
       "    </tr>\n",
       "    <tr>\n",
       "      <td>45-60</td>\n",
       "      <td>19048</td>\n",
       "      <td>4131</td>\n",
       "    </tr>\n",
       "    <tr>\n",
       "      <td>60-75</td>\n",
       "      <td>12234</td>\n",
       "      <td>2136</td>\n",
       "    </tr>\n",
       "    <tr>\n",
       "      <td>&gt;75</td>\n",
       "      <td>4520</td>\n",
       "      <td>867</td>\n",
       "    </tr>\n",
       "  </tbody>\n",
       "</table>\n",
       "</div>"
      ],
      "text/plain": [
       "no-show     No   Yes\n",
       "age                 \n",
       "1-15     19220  5248\n",
       "15-30    15921  5242\n",
       "30-45    17262  4692\n",
       "45-60    19048  4131\n",
       "60-75    12234  2136\n",
       ">75       4520   867"
      ]
     },
     "execution_count": 21,
     "metadata": {},
     "output_type": "execute_result"
    }
   ],
   "source": [
    "# a new data frame which has the shows and no shows for every unique value\n",
    "df_age = new_nsa.groupby(['age','no-show']).size().unstack() \n",
    "df_age"
   ]
  },
  {
   "cell_type": "code",
   "execution_count": 22,
   "metadata": {},
   "outputs": [
    {
     "data": {
      "text/plain": [
       "<matplotlib.axes._subplots.AxesSubplot at 0x1dafc5e1bc8>"
      ]
     },
     "execution_count": 22,
     "metadata": {},
     "output_type": "execute_result"
    },
    {
     "data": {
      "image/png": "[encoded data removed]",
      "text/plain": [
       "<Figure size 432x288 with 1 Axes>"
      ]
     },
     "metadata": {
      "needs_background": "light"
     },
     "output_type": "display_data"
    }
   ],
   "source": [
    "df_age.plot(kind='bar', rot=0) #a bar graph of the shows and no shows for every range of ages"
   ]
  },
  {
   "cell_type": "code",
   "execution_count": 23,
   "metadata": {},
   "outputs": [
    {
     "data": {
      "text/plain": [
       "<matplotlib.axes._subplots.AxesSubplot at 0x1dafc6b7508>"
      ]
     },
     "execution_count": 23,
     "metadata": {},
     "output_type": "execute_result"
    },
    {
     "data": {
      "image/png": "[encoded data removed]",
      "text/plain": [
       "<Figure size 432x288 with 1 Axes>"
      ]
     },
     "metadata": {
      "needs_background": "light"
     },
     "output_type": "display_data"
    }
   ],
   "source": [
    "age_sum = df_age.sum(1)\n",
    "age_sum.plot(kind = 'bar' , rot=0) #a bar graph of the total numbers for every range of ages"
   ]
  },
  {
   "cell_type": "code",
   "execution_count": 24,
   "metadata": {},
   "outputs": [
    {
     "name": "stdout",
     "output_type": "stream",
     "text": [
      "1-15 : 0.21448422429295405\n",
      "15-30 : 0.24769645135377782\n",
      "30-45 : 0.21371959551790107\n",
      "45-60 : 0.1782216661633375\n",
      "60-75 : 0.14864300626304802\n",
      ">75 : 0.16094301095229255\n"
     ]
    }
   ],
   "source": [
    "#looping over the range of ages and printing the ratio of shows of every range\n",
    "index = ['1-15', '15-30', '30-45', '45-60', '60-75', '>75'] #the index of the ranges of ages\n",
    "\n",
    "for i in index:\n",
    "    ratio = df_age['Yes'][i]/age_sum[i] #calculating the ratio\n",
    "    print(\"{} : {}\".format(i,ratio)) #printing the ratio"
   ]
  },
  {
   "cell_type": "markdown",
   "metadata": {},
   "source": [
    "### The answer :\n",
    "> from the graphs above and the ratios printed, it seems that there're some ranges that have higher ratio than the normal or mean ratio and there's another ranges that have lower ratio than the normal.\n",
    "so maybe there'e some relation between the age and shows or no-shows\n"
   ]
  },
  {
   "cell_type": "markdown",
   "metadata": {},
   "source": [
    "### Q4 : Is there any correlation between the neighbourhood of the cases and showing up to the appointment ? "
   ]
  },
  {
   "cell_type": "code",
   "execution_count": 25,
   "metadata": {},
   "outputs": [
    {
     "data": {
      "text/html": [
       "<div>\n",
       "<style scoped>\n",
       "    .dataframe tbody tr th:only-of-type {\n",
       "        vertical-align: middle;\n",
       "    }\n",
       "\n",
       "    .dataframe tbody tr th {\n",
       "        vertical-align: top;\n",
       "    }\n",
       "\n",
       "    .dataframe thead th {\n",
       "        text-align: right;\n",
       "    }\n",
       "</style>\n",
       "<table border=\"1\" class=\"dataframe\">\n",
       "  <thead>\n",
       "    <tr style=\"text-align: right;\">\n",
       "      <th>no-show</th>\n",
       "      <th>No</th>\n",
       "      <th>Yes</th>\n",
       "    </tr>\n",
       "    <tr>\n",
       "      <th>neighbourhood</th>\n",
       "      <th></th>\n",
       "      <th></th>\n",
       "    </tr>\n",
       "  </thead>\n",
       "  <tbody>\n",
       "    <tr>\n",
       "      <td>AEROPORTO</td>\n",
       "      <td>7.0</td>\n",
       "      <td>1.0</td>\n",
       "    </tr>\n",
       "    <tr>\n",
       "      <td>ANDORINHAS</td>\n",
       "      <td>1740.0</td>\n",
       "      <td>518.0</td>\n",
       "    </tr>\n",
       "    <tr>\n",
       "      <td>ANTÔNIO HONÓRIO</td>\n",
       "      <td>221.0</td>\n",
       "      <td>50.0</td>\n",
       "    </tr>\n",
       "    <tr>\n",
       "      <td>ARIOVALDO FAVALESSA</td>\n",
       "      <td>220.0</td>\n",
       "      <td>62.0</td>\n",
       "    </tr>\n",
       "    <tr>\n",
       "      <td>BARRO VERMELHO</td>\n",
       "      <td>332.0</td>\n",
       "      <td>91.0</td>\n",
       "    </tr>\n",
       "    <tr>\n",
       "      <td>...</td>\n",
       "      <td>...</td>\n",
       "      <td>...</td>\n",
       "    </tr>\n",
       "    <tr>\n",
       "      <td>SÃO JOSÉ</td>\n",
       "      <td>1548.0</td>\n",
       "      <td>428.0</td>\n",
       "    </tr>\n",
       "    <tr>\n",
       "      <td>SÃO PEDRO</td>\n",
       "      <td>1933.0</td>\n",
       "      <td>515.0</td>\n",
       "    </tr>\n",
       "    <tr>\n",
       "      <td>TABUAZEIRO</td>\n",
       "      <td>2559.0</td>\n",
       "      <td>573.0</td>\n",
       "    </tr>\n",
       "    <tr>\n",
       "      <td>UNIVERSITÁRIO</td>\n",
       "      <td>120.0</td>\n",
       "      <td>32.0</td>\n",
       "    </tr>\n",
       "    <tr>\n",
       "      <td>VILA RUBIM</td>\n",
       "      <td>710.0</td>\n",
       "      <td>141.0</td>\n",
       "    </tr>\n",
       "  </tbody>\n",
       "</table>\n",
       "<p>81 rows × 2 columns</p>\n",
       "</div>"
      ],
      "text/plain": [
       "no-show                  No    Yes\n",
       "neighbourhood                     \n",
       "AEROPORTO               7.0    1.0\n",
       "ANDORINHAS           1740.0  518.0\n",
       "ANTÔNIO HONÓRIO       221.0   50.0\n",
       "ARIOVALDO FAVALESSA   220.0   62.0\n",
       "BARRO VERMELHO        332.0   91.0\n",
       "...                     ...    ...\n",
       "SÃO JOSÉ             1548.0  428.0\n",
       "SÃO PEDRO            1933.0  515.0\n",
       "TABUAZEIRO           2559.0  573.0\n",
       "UNIVERSITÁRIO         120.0   32.0\n",
       "VILA RUBIM            710.0  141.0\n",
       "\n",
       "[81 rows x 2 columns]"
      ]
     },
     "execution_count": 25,
     "metadata": {},
     "output_type": "execute_result"
    }
   ],
   "source": [
    "df_neighb = nsa.groupby(['neighbourhood','no-show']).size().unstack()\n",
    "df_neighb"
   ]
  },
  {
   "cell_type": "code",
   "execution_count": 26,
   "metadata": {},
   "outputs": [],
   "source": [
    "#for simplecity we need to adjust the index of the df_neighb so that it's sorted \n",
    "#this would make it easier for us to compare and see the differences clearer\n",
    "new_ind = df_neighb.sum(1).sort_values(ascending = False).index #the index of sorted values"
   ]
  },
  {
   "cell_type": "code",
   "execution_count": 27,
   "metadata": {},
   "outputs": [
    {
     "data": {
      "text/plain": [
       "<matplotlib.axes._subplots.AxesSubplot at 0x1dafc758fc8>"
      ]
     },
     "execution_count": 27,
     "metadata": {},
     "output_type": "execute_result"
    },
    {
     "data": {
      "image/png": "[encoded data removed]",
      "text/plain": [
       "<Figure size 1080x504 with 1 Axes>"
      ]
     },
     "metadata": {
      "needs_background": "light"
     },
     "output_type": "display_data"
    }
   ],
   "source": [
    "#a bar graph of the total number of cases in each neighbourhood\n",
    "df_neighb.sum(1)[new_ind].plot(kind = 'bar', figsize = (15,7))"
   ]
  },
  {
   "cell_type": "code",
   "execution_count": 28,
   "metadata": {},
   "outputs": [
    {
     "data": {
      "text/plain": [
       "<matplotlib.axes._subplots.AxesSubplot at 0x1dafc902188>"
      ]
     },
     "execution_count": 28,
     "metadata": {},
     "output_type": "execute_result"
    },
    {
     "data": {
      "image/png": "[encoded data removed]",
      "text/plain": [
       "<Figure size 1080x504 with 1 Axes>"
      ]
     },
     "metadata": {
      "needs_background": "light"
     },
     "output_type": "display_data"
    }
   ],
   "source": [
    "#a bar graph of the numbers of shows in every neighbourhood\n",
    "df_neighb['Yes'][new_ind].plot(kind='bar',figsize=(15,7))"
   ]
  },
  {
   "cell_type": "code",
   "execution_count": 29,
   "metadata": {
    "scrolled": false
   },
   "outputs": [
    {
     "data": {
      "text/plain": [
       "<matplotlib.axes._subplots.AxesSubplot at 0x1dafcdd1fc8>"
      ]
     },
     "execution_count": 29,
     "metadata": {},
     "output_type": "execute_result"
    },
    {
     "data": {
      "image/png": "[encoded data removed]",
      "text/plain": [
       "<Figure size 1080x504 with 1 Axes>"
      ]
     },
     "metadata": {
      "needs_background": "light"
     },
     "output_type": "display_data"
    }
   ],
   "source": [
    "#a bar graph of the numbers of no-shows in every neighbourhood\n",
    "df_neighb['No'][new_ind].plot(kind='bar',figsize=(15,7))"
   ]
  },
  {
   "cell_type": "code",
   "execution_count": 30,
   "metadata": {
    "scrolled": true
   },
   "outputs": [
    {
     "name": "stdout",
     "output_type": "stream",
     "text": [
      "JARDIM CAMBURI : 0.18984061163664637\n",
      "MARIA ORTIZ : 0.20999138673557277\n",
      "RESISTÊNCIA : 0.20446851726472579\n",
      "JARDIM DA PENHA : 0.16275470724787205\n",
      "ITARARÉ : 0.2626636311895276\n",
      "CENTRO : 0.21085782843431314\n",
      "TABUAZEIRO : 0.18295019157088122\n",
      "SANTA MARTHA : 0.15841584158415842\n",
      "JESUS DE NAZARETH : 0.24395373291272346\n",
      "BONFIM : 0.1983411467724486\n",
      "SANTO ANTÔNIO : 0.17625637290604515\n",
      "SANTO ANDRÉ : 0.19758848697005058\n",
      "CARATOÍRA : 0.2304093567251462\n",
      "JABOUR : 0.17975288959744917\n",
      "SÃO PEDRO : 0.21037581699346405\n",
      "ILHA DO PRÍNCIPE : 0.23477493380406\n",
      "NOVA PALESTINA : 0.1775618374558304\n",
      "ANDORINHAS : 0.22940655447298494\n",
      "DA PENHA : 0.19350473612990526\n",
      "ROMÃO : 0.2140921409214092\n",
      "GURIGICA : 0.2259663032705649\n",
      "SÃO JOSÉ : 0.2165991902834008\n",
      "BELA VISTA : 0.20136339800734138\n",
      "MARUÍPE : 0.22292323869610936\n",
      "FORTE SÃO JOÃO : 0.18316569613552144\n",
      "ILHA DE SANTA MARIA : 0.19151193633952254\n",
      "SÃO CRISTÓVÃO : 0.1977124183006536\n",
      "REDENÇÃO : 0.17707662588538314\n",
      "SÃO BENEDITO : 0.19944405837387075\n",
      "JOANA D´ARC : 0.1807988787666433\n",
      "CRUZAMENTO : 0.21745350500715308\n",
      "CONSOLAÇÃO : 0.17223837209302326\n",
      "SANTA TEREZA : 0.2042042042042042\n",
      "PRAIA DO SUÁ : 0.22826086956521738\n",
      "SANTOS DUMONT : 0.2891849529780564\n",
      "ILHA DAS CAIEIRAS : 0.21942110177404295\n",
      "GRANDE VITÓRIA : 0.20261437908496732\n",
      "INHANGUETÁ : 0.19110690633869443\n",
      "PRAIA DO CANTO : 0.18357487922705315\n",
      "BENTO FERREIRA : 0.22494172494172493\n",
      "VILA RUBIM : 0.16568742655699178\n",
      "DO QUADRO : 0.16489988221436985\n",
      "CONQUISTA : 0.18845700824499412\n",
      "REPÚBLICA : 0.17125748502994012\n",
      "MONTE BELO : 0.20145631067961164\n",
      "PARQUE MOSCOSO : 0.2231920199501247\n",
      "GOIABEIRAS : 0.1957142857142857\n",
      "JUCUTUQUARA : 0.19164265129682997\n",
      "FONTE GRANDE : 0.218475073313783\n",
      "MATA DA PRAIA : 0.17080745341614906\n",
      "DO CABRAL : 0.15714285714285714\n",
      "SANTOS REIS : 0.20475319926873858\n",
      "ESTRELINHA : 0.1970260223048327\n",
      "SANTA CLARA : 0.2648221343873518\n",
      "SOLON BORGES : 0.14712153518123666\n",
      "PIEDADE : 0.19469026548672566\n",
      "SANTA CECÍLIA : 0.27455357142857145\n",
      "SANTA LÚCIA : 0.1963470319634703\n",
      "SANTA LUÍZA : 0.17990654205607476\n",
      "BARRO VERMELHO : 0.21513002364066194\n",
      "DO MOSCOSO : 0.22276029055690072\n",
      "MÁRIO CYPRESTE : 0.14555256064690028\n",
      "BOA VISTA : 0.1858974358974359\n",
      "COMDUSA : 0.18064516129032257\n",
      "DE LOURDES : 0.1540983606557377\n",
      "ARIOVALDO FAVALESSA : 0.2198581560283688\n",
      "ANTÔNIO HONÓRIO : 0.18450184501845018\n",
      "FRADINHOS : 0.18604651162790697\n",
      "ENSEADA DO SUÁ : 0.22127659574468084\n",
      "SANTA HELENA : 0.20786516853932585\n",
      "HORTO : 0.24\n",
      "UNIVERSITÁRIO : 0.21052631578947367\n",
      "SEGURANÇA DO LAR : 0.19310344827586207\n",
      "NAZARETH : 0.21481481481481482\n",
      "MORADA DE CAMBURI : 0.16666666666666666\n",
      "PONTAL DE CAMBURI : 0.17391304347826086\n",
      "ILHA DO BOI : 0.08571428571428572\n",
      "ILHA DO FRADE : 0.2\n",
      "AEROPORTO : 0.125\n",
      "ILHAS OCEÂNICAS DE TRINDADE : 1.0\n",
      "PARQUE INDUSTRIAL : nan\n"
     ]
    }
   ],
   "source": [
    "#looping over the neighbourhoods and printing the ratio of shows of every one of them\n",
    "\n",
    "for i in new_ind:\n",
    "    ratio = df_neighb['Yes'][i]/df_neighb.sum(1)[i] #calculating the ratio\n",
    "    print(\"{} : {}\".format(i,ratio)) #printing the ratio"
   ]
  },
  {
   "cell_type": "markdown",
   "metadata": {},
   "source": [
    "### The answer :\n",
    "> there are some high changes in certain neighbourhoods and different ratios. so maybe there's some relation between certain neighbourhoods and ratio of shows."
   ]
  },
  {
   "cell_type": "markdown",
   "metadata": {},
   "source": [
    "### Q5 : Is there any correlation between the scholarship of the cases and showing up to the appointment ?"
   ]
  },
  {
   "cell_type": "code",
   "execution_count": 31,
   "metadata": {},
   "outputs": [
    {
     "data": {
      "text/html": [
       "<div>\n",
       "<style scoped>\n",
       "    .dataframe tbody tr th:only-of-type {\n",
       "        vertical-align: middle;\n",
       "    }\n",
       "\n",
       "    .dataframe tbody tr th {\n",
       "        vertical-align: top;\n",
       "    }\n",
       "\n",
       "    .dataframe thead th {\n",
       "        text-align: right;\n",
       "    }\n",
       "</style>\n",
       "<table border=\"1\" class=\"dataframe\">\n",
       "  <thead>\n",
       "    <tr style=\"text-align: right;\">\n",
       "      <th>no-show</th>\n",
       "      <th>No</th>\n",
       "      <th>Yes</th>\n",
       "    </tr>\n",
       "    <tr>\n",
       "      <th>scholarship</th>\n",
       "      <th></th>\n",
       "      <th></th>\n",
       "    </tr>\n",
       "  </thead>\n",
       "  <tbody>\n",
       "    <tr>\n",
       "      <td>0</td>\n",
       "      <td>79922</td>\n",
       "      <td>19738</td>\n",
       "    </tr>\n",
       "    <tr>\n",
       "      <td>1</td>\n",
       "      <td>8283</td>\n",
       "      <td>2578</td>\n",
       "    </tr>\n",
       "  </tbody>\n",
       "</table>\n",
       "</div>"
      ],
      "text/plain": [
       "no-show         No    Yes\n",
       "scholarship              \n",
       "0            79922  19738\n",
       "1             8283   2578"
      ]
     },
     "execution_count": 31,
     "metadata": {},
     "output_type": "execute_result"
    }
   ],
   "source": [
    "#creating dataframe where we have the numbers of shows and no_shows for the scolarships\n",
    "df_school = nsa.groupby(['scholarship','no-show']).size().unstack()\n",
    "df_school"
   ]
  },
  {
   "cell_type": "code",
   "execution_count": 32,
   "metadata": {},
   "outputs": [
    {
     "data": {
      "text/plain": [
       "<matplotlib.axes._subplots.AxesSubplot at 0x1dafd896148>"
      ]
     },
     "execution_count": 32,
     "metadata": {},
     "output_type": "execute_result"
    },
    {
     "data": {
      "image/png": "[encoded data removed]",
      "text/plain": [
       "<Figure size 432x288 with 1 Axes>"
      ]
     },
     "metadata": {
      "needs_background": "light"
     },
     "output_type": "display_data"
    }
   ],
   "source": [
    "df_school.plot(kind='bar',rot=0) #a bar graph that shows the numbers of shows an no shows for scolars and nonscholars"
   ]
  },
  {
   "cell_type": "code",
   "execution_count": 33,
   "metadata": {},
   "outputs": [
    {
     "data": {
      "text/plain": [
       "scholarship\n",
       "0    99660\n",
       "1    10861\n",
       "dtype: int64"
      ]
     },
     "execution_count": 33,
     "metadata": {},
     "output_type": "execute_result"
    }
   ],
   "source": [
    "school_sum = df_school.sum(axis=1) #the total number of scholar and nonscholars\n",
    "school_sum"
   ]
  },
  {
   "cell_type": "code",
   "execution_count": 34,
   "metadata": {},
   "outputs": [
    {
     "data": {
      "text/plain": [
       "(0.2373630420771568, 0.19805338149709012)"
      ]
     },
     "execution_count": 34,
     "metadata": {},
     "output_type": "execute_result"
    }
   ],
   "source": [
    "#calculatiing the ratio of showing up in both cases of scholarship\n",
    "school_ratio = df_school['Yes'][1]/school_sum[1] #calculating the ratio for the scholar\n",
    "nonschool_ratio = df_school['Yes'][0]/school_sum[0] #calculating the ratio for the nonscholar\n",
    "(school_ratio, nonschool_ratio)"
   ]
  },
  {
   "cell_type": "markdown",
   "metadata": {},
   "source": [
    "### The answer :\n",
    "> the total ratio of showing up in the appointment is 20% but when we see the ratio if the case has a scholarship, we find that the ratio is 23.7% which is a little bit higher. so maybe there's a relation between showing in the appointment and having a scholarship but not a strong relation"
   ]
  },
  {
   "cell_type": "markdown",
   "metadata": {},
   "source": [
    "### Q6 : Is there any correlation between the hipertension of the cases and showing up to the appointment ?"
   ]
  },
  {
   "cell_type": "code",
   "execution_count": 35,
   "metadata": {},
   "outputs": [
    {
     "data": {
      "text/html": [
       "<div>\n",
       "<style scoped>\n",
       "    .dataframe tbody tr th:only-of-type {\n",
       "        vertical-align: middle;\n",
       "    }\n",
       "\n",
       "    .dataframe tbody tr th {\n",
       "        vertical-align: top;\n",
       "    }\n",
       "\n",
       "    .dataframe thead th {\n",
       "        text-align: right;\n",
       "    }\n",
       "</style>\n",
       "<table border=\"1\" class=\"dataframe\">\n",
       "  <thead>\n",
       "    <tr style=\"text-align: right;\">\n",
       "      <th>no-show</th>\n",
       "      <th>No</th>\n",
       "      <th>Yes</th>\n",
       "    </tr>\n",
       "    <tr>\n",
       "      <th>hipertension</th>\n",
       "      <th></th>\n",
       "      <th></th>\n",
       "    </tr>\n",
       "  </thead>\n",
       "  <tbody>\n",
       "    <tr>\n",
       "      <td>0</td>\n",
       "      <td>70177</td>\n",
       "      <td>18544</td>\n",
       "    </tr>\n",
       "    <tr>\n",
       "      <td>1</td>\n",
       "      <td>18028</td>\n",
       "      <td>3772</td>\n",
       "    </tr>\n",
       "  </tbody>\n",
       "</table>\n",
       "</div>"
      ],
      "text/plain": [
       "no-show          No    Yes\n",
       "hipertension              \n",
       "0             70177  18544\n",
       "1             18028   3772"
      ]
     },
     "execution_count": 35,
     "metadata": {},
     "output_type": "execute_result"
    }
   ],
   "source": [
    "#creating dataframe where we have the numbers of shows and no_shows for the hipertension\n",
    "df_hip = nsa.groupby(['hipertension','no-show']).size().unstack()\n",
    "df_hip"
   ]
  },
  {
   "cell_type": "code",
   "execution_count": 36,
   "metadata": {},
   "outputs": [
    {
     "data": {
      "text/plain": [
       "<matplotlib.axes._subplots.AxesSubplot at 0x1dafd91c088>"
      ]
     },
     "execution_count": 36,
     "metadata": {},
     "output_type": "execute_result"
    },
    {
     "data": {
      "image/png": "[encoded data removed]",
      "text/plain": [
       "<Figure size 432x288 with 1 Axes>"
      ]
     },
     "metadata": {
      "needs_background": "light"
     },
     "output_type": "display_data"
    }
   ],
   "source": [
    "df_hip.plot(kind='bar',rot=0) #a bar graph that shows the numbers of shows an no shows for hipers and nonhipers"
   ]
  },
  {
   "cell_type": "code",
   "execution_count": 37,
   "metadata": {},
   "outputs": [
    {
     "data": {
      "text/plain": [
       "hipertension\n",
       "0    88721\n",
       "1    21800\n",
       "dtype: int64"
      ]
     },
     "execution_count": 37,
     "metadata": {},
     "output_type": "execute_result"
    }
   ],
   "source": [
    "hip_sum = df_hip.sum(axis=1) #the total number of hipers and nonhipers\n",
    "hip_sum"
   ]
  },
  {
   "cell_type": "code",
   "execution_count": 38,
   "metadata": {},
   "outputs": [
    {
     "data": {
      "text/plain": [
       "(0.1730275229357798, 0.20901477665941548)"
      ]
     },
     "execution_count": 38,
     "metadata": {},
     "output_type": "execute_result"
    }
   ],
   "source": [
    "#calculatiing the ratio of showing up in both cases of hipertension\n",
    "hip_ratio = df_hip['Yes'][1]/hip_sum[1] #calculating the ratio for the hipers\n",
    "nonhip_ratio = df_hip['Yes'][0]/hip_sum[0] #calculating the ratio for the nonhipers\n",
    "(hip_ratio, nonhip_ratio)"
   ]
  },
  {
   "cell_type": "markdown",
   "metadata": {},
   "source": [
    "### The answer:\n",
    "> the total ratio of showing up in the appointment is 20% but when we see the ratio if the case has a hipertension, we find that the ratio is 17.3% which is lower but not by much. so maybe there's a relation between showing in the appointment and having a hipertension but not a strong relation"
   ]
  },
  {
   "cell_type": "markdown",
   "metadata": {},
   "source": [
    "### Q7 : Is there any correlation between the diabetes of the cases and showing up to the appointment ?"
   ]
  },
  {
   "cell_type": "code",
   "execution_count": 39,
   "metadata": {},
   "outputs": [
    {
     "data": {
      "text/html": [
       "<div>\n",
       "<style scoped>\n",
       "    .dataframe tbody tr th:only-of-type {\n",
       "        vertical-align: middle;\n",
       "    }\n",
       "\n",
       "    .dataframe tbody tr th {\n",
       "        vertical-align: top;\n",
       "    }\n",
       "\n",
       "    .dataframe thead th {\n",
       "        text-align: right;\n",
       "    }\n",
       "</style>\n",
       "<table border=\"1\" class=\"dataframe\">\n",
       "  <thead>\n",
       "    <tr style=\"text-align: right;\">\n",
       "      <th>no-show</th>\n",
       "      <th>No</th>\n",
       "      <th>Yes</th>\n",
       "    </tr>\n",
       "    <tr>\n",
       "      <th>diabetes</th>\n",
       "      <th></th>\n",
       "      <th></th>\n",
       "    </tr>\n",
       "  </thead>\n",
       "  <tbody>\n",
       "    <tr>\n",
       "      <td>0</td>\n",
       "      <td>81692</td>\n",
       "      <td>20886</td>\n",
       "    </tr>\n",
       "    <tr>\n",
       "      <td>1</td>\n",
       "      <td>6513</td>\n",
       "      <td>1430</td>\n",
       "    </tr>\n",
       "  </tbody>\n",
       "</table>\n",
       "</div>"
      ],
      "text/plain": [
       "no-show      No    Yes\n",
       "diabetes              \n",
       "0         81692  20886\n",
       "1          6513   1430"
      ]
     },
     "execution_count": 39,
     "metadata": {},
     "output_type": "execute_result"
    }
   ],
   "source": [
    "#creating dataframe where we have the numbers of shows and no_shows for the diabetes\n",
    "df_dia = nsa.groupby(['diabetes','no-show']).size().unstack()\n",
    "df_dia"
   ]
  },
  {
   "cell_type": "code",
   "execution_count": 40,
   "metadata": {},
   "outputs": [
    {
     "data": {
      "text/plain": [
       "<matplotlib.axes._subplots.AxesSubplot at 0x1dafdbc0088>"
      ]
     },
     "execution_count": 40,
     "metadata": {},
     "output_type": "execute_result"
    },
    {
     "data": {
      "image/png": "[encoded data removed]",
      "text/plain": [
       "<Figure size 432x288 with 1 Axes>"
      ]
     },
     "metadata": {
      "needs_background": "light"
     },
     "output_type": "display_data"
    }
   ],
   "source": [
    "df_dia.plot(kind='bar',rot=0) #a bar graph that shows the numbers of shows an no shows for diabetics and nondiabetics"
   ]
  },
  {
   "cell_type": "code",
   "execution_count": 41,
   "metadata": {},
   "outputs": [
    {
     "data": {
      "text/plain": [
       "diabetes\n",
       "0    102578\n",
       "1      7943\n",
       "dtype: int64"
      ]
     },
     "execution_count": 41,
     "metadata": {},
     "output_type": "execute_result"
    }
   ],
   "source": [
    "dia_sum = df_dia.sum(axis=1) #the total number of diabetics and non diabetics\n",
    "dia_sum"
   ]
  },
  {
   "cell_type": "code",
   "execution_count": 42,
   "metadata": {},
   "outputs": [
    {
     "data": {
      "text/plain": [
       "(0.18003273322422259, 0.20361091072159723)"
      ]
     },
     "execution_count": 42,
     "metadata": {},
     "output_type": "execute_result"
    }
   ],
   "source": [
    "#calculatiing the ratio of showing up in both cases of diabetes\n",
    "dia_ratio = df_dia['Yes'][1]/dia_sum[1] #calculating the ratio for the diabetic\n",
    "nondia_ratio = df_dia['Yes'][0]/dia_sum[0] #calculating the ratio for the nondiabetics\n",
    "(dia_ratio, nondia_ratio)"
   ]
  },
  {
   "cell_type": "markdown",
   "metadata": {},
   "source": [
    "### The answer:\n",
    "> the total ratio of showing up in the appointment is 20% but when we see the ratio if the case is diabetic, we find that the ratio is 18% which is lower but not by much. so maybe there's a relation between showing in the appointment and having a diabetes but not a strong relation"
   ]
  },
  {
   "cell_type": "markdown",
   "metadata": {},
   "source": [
    "### Q8 : Is there any correlation between the alcoholism of the cases and showing up to the appointment ?"
   ]
  },
  {
   "cell_type": "code",
   "execution_count": 43,
   "metadata": {},
   "outputs": [
    {
     "data": {
      "text/html": [
       "<div>\n",
       "<style scoped>\n",
       "    .dataframe tbody tr th:only-of-type {\n",
       "        vertical-align: middle;\n",
       "    }\n",
       "\n",
       "    .dataframe tbody tr th {\n",
       "        vertical-align: top;\n",
       "    }\n",
       "\n",
       "    .dataframe thead th {\n",
       "        text-align: right;\n",
       "    }\n",
       "</style>\n",
       "<table border=\"1\" class=\"dataframe\">\n",
       "  <thead>\n",
       "    <tr style=\"text-align: right;\">\n",
       "      <th>no-show</th>\n",
       "      <th>No</th>\n",
       "      <th>Yes</th>\n",
       "    </tr>\n",
       "    <tr>\n",
       "      <th>alcoholism</th>\n",
       "      <th></th>\n",
       "      <th></th>\n",
       "    </tr>\n",
       "  </thead>\n",
       "  <tbody>\n",
       "    <tr>\n",
       "      <td>0</td>\n",
       "      <td>85522</td>\n",
       "      <td>21639</td>\n",
       "    </tr>\n",
       "    <tr>\n",
       "      <td>1</td>\n",
       "      <td>2683</td>\n",
       "      <td>677</td>\n",
       "    </tr>\n",
       "  </tbody>\n",
       "</table>\n",
       "</div>"
      ],
      "text/plain": [
       "no-show        No    Yes\n",
       "alcoholism              \n",
       "0           85522  21639\n",
       "1            2683    677"
      ]
     },
     "execution_count": 43,
     "metadata": {},
     "output_type": "execute_result"
    }
   ],
   "source": [
    "#creating dataframe where we have the numbers of shows and no_shows for the alcoholism\n",
    "df_alco = nsa.groupby(['alcoholism','no-show']).size().unstack()\n",
    "df_alco"
   ]
  },
  {
   "cell_type": "code",
   "execution_count": 44,
   "metadata": {},
   "outputs": [
    {
     "data": {
      "text/plain": [
       "<matplotlib.axes._subplots.AxesSubplot at 0x1dafdc3f788>"
      ]
     },
     "execution_count": 44,
     "metadata": {},
     "output_type": "execute_result"
    },
    {
     "data": {
      "image/png": "[encoded data removed]",
      "text/plain": [
       "<Figure size 432x288 with 1 Axes>"
      ]
     },
     "metadata": {
      "needs_background": "light"
     },
     "output_type": "display_data"
    }
   ],
   "source": [
    "df_alco.plot(kind='bar',rot=0) #bar graph that shows the numbers of shows an no shows for alcoholics and nonalcoholics"
   ]
  },
  {
   "cell_type": "code",
   "execution_count": 45,
   "metadata": {},
   "outputs": [
    {
     "data": {
      "text/plain": [
       "alcoholism\n",
       "0    107161\n",
       "1      3360\n",
       "dtype: int64"
      ]
     },
     "execution_count": 45,
     "metadata": {},
     "output_type": "execute_result"
    }
   ],
   "source": [
    "alco_sum = df_alco.sum(axis=1) #the total number of alcoholics and nonalcoholics\n",
    "alco_sum"
   ]
  },
  {
   "cell_type": "code",
   "execution_count": 46,
   "metadata": {},
   "outputs": [
    {
     "data": {
      "text/plain": [
       "(0.20148809523809524, 0.20192980655275708)"
      ]
     },
     "execution_count": 46,
     "metadata": {},
     "output_type": "execute_result"
    }
   ],
   "source": [
    "#calculatiing the ratio of showing up in both cases of alcoholism\n",
    "alco_ratio = df_alco['Yes'][1]/alco_sum[1] #calculating the ratio for the alcoholics\n",
    "nonalco_ratio = df_alco['Yes'][0]/alco_sum[0] #calculating the ratio for the alcoholicsnon\n",
    "(alco_ratio, nonalco_ratio)"
   ]
  },
  {
   "cell_type": "markdown",
   "metadata": {},
   "source": [
    "### The answer :\n",
    "> the total ratio of showing up in the appointment is 20% which is the same as the ratios above.\n",
    "So I think there's no relationship between the alcoholism and showing up in the appointment"
   ]
  },
  {
   "cell_type": "markdown",
   "metadata": {},
   "source": [
    "### Q9 : Is there any correlation between the handicap of the cases and showing up to the appointment ?"
   ]
  },
  {
   "cell_type": "code",
   "execution_count": 47,
   "metadata": {},
   "outputs": [
    {
     "data": {
      "text/plain": [
       "array([0, 1, 2, 3, 4], dtype=int64)"
      ]
     },
     "execution_count": 47,
     "metadata": {},
     "output_type": "execute_result"
    }
   ],
   "source": [
    "nsa['handcap'].unique() #the uniqiue values in handcap"
   ]
  },
  {
   "cell_type": "code",
   "execution_count": 48,
   "metadata": {},
   "outputs": [
    {
     "data": {
      "text/plain": [
       "0    108284\n",
       "1      2038\n",
       "2       183\n",
       "3        13\n",
       "4         3\n",
       "Name: handcap, dtype: int64"
      ]
     },
     "execution_count": 48,
     "metadata": {},
     "output_type": "execute_result"
    }
   ],
   "source": [
    "nsa['handcap'].value_counts() #the numbers of every unique value"
   ]
  },
  {
   "cell_type": "code",
   "execution_count": 49,
   "metadata": {},
   "outputs": [],
   "source": [
    "#we have 5 unique values of handcap but the values 1 to 4 has a few cases number so thier ratios won't be indicative\n",
    "# so instead of dealing with 5 values, we are going to only deal with two values\n",
    "# the values 0 and 1 will be the same but the values from 2 to 4 will be 1\n",
    "\n",
    "#that function applies what we discussed\n",
    "def mask_hand (case):\n",
    "    if case ==0 : #if the case is 0 it's going to return 0\n",
    "        return 0\n",
    "    return 1 #if the case is 1 , 2 ,3 or 4 it's going to return 1"
   ]
  },
  {
   "cell_type": "code",
   "execution_count": 50,
   "metadata": {},
   "outputs": [],
   "source": [
    "#we will use our new_nsa to apply our mask_hand function on the cases\n",
    "new_nsa['handcap'] = new_nsa['handcap'].apply(mask_hand)"
   ]
  },
  {
   "cell_type": "code",
   "execution_count": 51,
   "metadata": {},
   "outputs": [
    {
     "data": {
      "text/html": [
       "<div>\n",
       "<style scoped>\n",
       "    .dataframe tbody tr th:only-of-type {\n",
       "        vertical-align: middle;\n",
       "    }\n",
       "\n",
       "    .dataframe tbody tr th {\n",
       "        vertical-align: top;\n",
       "    }\n",
       "\n",
       "    .dataframe thead th {\n",
       "        text-align: right;\n",
       "    }\n",
       "</style>\n",
       "<table border=\"1\" class=\"dataframe\">\n",
       "  <thead>\n",
       "    <tr style=\"text-align: right;\">\n",
       "      <th>no-show</th>\n",
       "      <th>No</th>\n",
       "      <th>Yes</th>\n",
       "    </tr>\n",
       "    <tr>\n",
       "      <th>handcap</th>\n",
       "      <th></th>\n",
       "      <th></th>\n",
       "    </tr>\n",
       "  </thead>\n",
       "  <tbody>\n",
       "    <tr>\n",
       "      <td>0</td>\n",
       "      <td>86372</td>\n",
       "      <td>21912</td>\n",
       "    </tr>\n",
       "    <tr>\n",
       "      <td>1</td>\n",
       "      <td>1833</td>\n",
       "      <td>404</td>\n",
       "    </tr>\n",
       "  </tbody>\n",
       "</table>\n",
       "</div>"
      ],
      "text/plain": [
       "no-show     No    Yes\n",
       "handcap              \n",
       "0        86372  21912\n",
       "1         1833    404"
      ]
     },
     "execution_count": 51,
     "metadata": {},
     "output_type": "execute_result"
    }
   ],
   "source": [
    "#creating dataframe where we have the numbers of shows and no_shows for the handcap\n",
    "df_hand = new_nsa.groupby(['handcap','no-show']).size().unstack()\n",
    "df_hand"
   ]
  },
  {
   "cell_type": "code",
   "execution_count": 52,
   "metadata": {},
   "outputs": [
    {
     "data": {
      "text/plain": [
       "<matplotlib.axes._subplots.AxesSubplot at 0x1dafdcc8488>"
      ]
     },
     "execution_count": 52,
     "metadata": {},
     "output_type": "execute_result"
    },
    {
     "data": {
      "image/png": "[encoded data removed]",
      "text/plain": [
       "<Figure size 432x288 with 1 Axes>"
      ]
     },
     "metadata": {
      "needs_background": "light"
     },
     "output_type": "display_data"
    }
   ],
   "source": [
    "df_hand.plot(kind='bar',rot=0) #a bar graph that shows the numbers of shows an no shows for handicap and non handicap"
   ]
  },
  {
   "cell_type": "code",
   "execution_count": 53,
   "metadata": {},
   "outputs": [
    {
     "data": {
      "text/plain": [
       "handcap\n",
       "0    108284\n",
       "1      2237\n",
       "dtype: int64"
      ]
     },
     "execution_count": 53,
     "metadata": {},
     "output_type": "execute_result"
    }
   ],
   "source": [
    "hand_sum = df_hand.sum(axis=1) #the total number of handcap and nonhandcaps\n",
    "hand_sum"
   ]
  },
  {
   "cell_type": "code",
   "execution_count": 54,
   "metadata": {},
   "outputs": [
    {
     "data": {
      "text/plain": [
       "(0.18059901654000893, 0.2023567655424624)"
      ]
     },
     "execution_count": 54,
     "metadata": {},
     "output_type": "execute_result"
    }
   ],
   "source": [
    "#calculatiing the ratio of showing up in both cases of handcap\n",
    "hand_ratio = df_hand['Yes'][1]/hand_sum[1] #calculating the ratio for the handicap\n",
    "nonhand_ratio = df_hand['Yes'][0]/hand_sum[0] #calculating the ratio for the nonhandicap\n",
    "(hand_ratio, nonhand_ratio)"
   ]
  },
  {
   "cell_type": "markdown",
   "metadata": {},
   "source": [
    "### The answer:\n",
    "> the total ratio of showing up in the appointment is 20% but when we see the ratio if the case is handicap, we find that the ratio is about 18% which is lower but not by much. so maybe there's a relation between showing in the appointment and having a handicap but not a strong relation"
   ]
  },
  {
   "cell_type": "markdown",
   "metadata": {},
   "source": [
    "### Q10 : Is there any correlation between the sms recieved and showing up to the appointment ?"
   ]
  },
  {
   "cell_type": "code",
   "execution_count": 55,
   "metadata": {},
   "outputs": [
    {
     "data": {
      "text/html": [
       "<div>\n",
       "<style scoped>\n",
       "    .dataframe tbody tr th:only-of-type {\n",
       "        vertical-align: middle;\n",
       "    }\n",
       "\n",
       "    .dataframe tbody tr th {\n",
       "        vertical-align: top;\n",
       "    }\n",
       "\n",
       "    .dataframe thead th {\n",
       "        text-align: right;\n",
       "    }\n",
       "</style>\n",
       "<table border=\"1\" class=\"dataframe\">\n",
       "  <thead>\n",
       "    <tr style=\"text-align: right;\">\n",
       "      <th>no-show</th>\n",
       "      <th>No</th>\n",
       "      <th>Yes</th>\n",
       "    </tr>\n",
       "    <tr>\n",
       "      <th>sms_received</th>\n",
       "      <th></th>\n",
       "      <th></th>\n",
       "    </tr>\n",
       "  </thead>\n",
       "  <tbody>\n",
       "    <tr>\n",
       "      <td>0</td>\n",
       "      <td>62508</td>\n",
       "      <td>12532</td>\n",
       "    </tr>\n",
       "    <tr>\n",
       "      <td>1</td>\n",
       "      <td>25697</td>\n",
       "      <td>9784</td>\n",
       "    </tr>\n",
       "  </tbody>\n",
       "</table>\n",
       "</div>"
      ],
      "text/plain": [
       "no-show          No    Yes\n",
       "sms_received              \n",
       "0             62508  12532\n",
       "1             25697   9784"
      ]
     },
     "execution_count": 55,
     "metadata": {},
     "output_type": "execute_result"
    }
   ],
   "source": [
    "#creating dataframe where we have the numbers of shows and no_shows for the sms recieved\n",
    "df_sms = nsa.groupby(['sms_received','no-show']).size().unstack()\n",
    "df_sms"
   ]
  },
  {
   "cell_type": "code",
   "execution_count": 56,
   "metadata": {},
   "outputs": [
    {
     "data": {
      "text/plain": [
       "<matplotlib.axes._subplots.AxesSubplot at 0x1dafdd1b448>"
      ]
     },
     "execution_count": 56,
     "metadata": {},
     "output_type": "execute_result"
    },
    {
     "data": {
      "image/png": "[encoded data removed]",
      "text/plain": [
       "<Figure size 432x288 with 1 Axes>"
      ]
     },
     "metadata": {
      "needs_background": "light"
     },
     "output_type": "display_data"
    }
   ],
   "source": [
    "df_sms.plot(kind='bar',rot=0) #a bar graph that shows the numbers of shows an no shows for sms recieved and non sms"
   ]
  },
  {
   "cell_type": "code",
   "execution_count": 57,
   "metadata": {},
   "outputs": [
    {
     "data": {
      "text/plain": [
       "sms_received\n",
       "0    75040\n",
       "1    35481\n",
       "dtype: int64"
      ]
     },
     "execution_count": 57,
     "metadata": {},
     "output_type": "execute_result"
    }
   ],
   "source": [
    "sms_sum = df_sms.sum(axis=1) #the total number of sms_recieved and nonsms_recieved\n",
    "sms_sum"
   ]
  },
  {
   "cell_type": "code",
   "execution_count": 58,
   "metadata": {},
   "outputs": [
    {
     "data": {
      "text/plain": [
       "(0.27575322003325725, 0.1670042643923241)"
      ]
     },
     "execution_count": 58,
     "metadata": {},
     "output_type": "execute_result"
    }
   ],
   "source": [
    "#calculatiing the ratio of showing up in both cases of sms_recieved\n",
    "sms_ratio = df_sms['Yes'][1]/sms_sum[1] #calculating the ratio for the sms_recieved\n",
    "nonsms_ratio = df_sms['Yes'][0]/sms_sum[0] #calculating the ratio for the nonsms_recieved\n",
    "(sms_ratio, nonsms_ratio)"
   ]
  },
  {
   "cell_type": "markdown",
   "metadata": {},
   "source": [
    "### The answer:\n",
    "> the total ratio of showing up in the appointment is 20% but when we see the ratio if the case recieved a sms, we find that the ratio is about 27.5% which is higher than normal and the ratio if the case didn't recieve a sms, we find that the ratio is about 16.7% which is lower than normal. so I think there's a relation between showing in the appointment and recieving an sms."
   ]
  },
  {
   "cell_type": "markdown",
   "metadata": {},
   "source": [
    "<a id='conclusions'></a>\n",
    "## Conclusions\n",
    "\n",
    "### First conclusion :\n",
    "\n",
    "**The data that we are working with isn't balanced and highly skewed that only 20% of the data is shows and the rest\n",
    "are no shows which is a big problem and a limitation**\n",
    "\n",
    "### Second conclusion :\n",
    "\n",
    "#### there are some features that have intersting relations with showing in the appointment like : \n",
    "\n",
    "**from our analysis of the data we found some intersting result.\n",
    "there're some features that have some relation with the shows like scholarship , hipertension, diabetes , handcap ,sms_recieved , some age ranges and some neighbourhoods but there're some limitations and problems.\n",
    "for example, the scolarship only has an effect if the case is scholar but if he isn't then we can't tell or the scholar won't have any effect on the inference.\n",
    "the same goes on hipertension, diabetes, handcap and many neighbourhoods and ranges of ages.\n",
    "an even if the case is scholar or hipertension there's big uncertainity because the effect on the ratio is about 3 percent higher or lower so there's high uncertainity.\n",
    "the sms_recieved showd some intersting result: if the case recieved then there's 27% they would show and if the case didn't recieve , they would have 16% of showing so there's a nice relationship but still it has high uncertainity.**\n",
    "\n",
    "### Third conclusion :\n",
    "\n",
    "**all the features are binary or catagorical and there're no continious feature that have any decent relation with the data which makes the inference is harder as he have few number of options to build out inference upon**"
   ]
  }
 ],
 "metadata": {
  "kernelspec": {
   "display_name": "Python 3",
   "language": "python",
   "name": "python3"
  },
  "language_info": {
   "codemirror_mode": {
    "name": "ipython",
    "version": 3
   },
   "file_extension": ".py",
   "mimetype": "text/x-python",
   "name": "python",
   "nbconvert_exporter": "python",
   "pygments_lexer": "ipython3",
   "version": "3.7.3"
  }
 },
 "nbformat": 4,
 "nbformat_minor": 2
}
